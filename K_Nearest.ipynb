{
  "nbformat": 4,
  "nbformat_minor": 0,
  "metadata": {
    "colab": {
      "provenance": [],
      "authorship_tag": "ABX9TyOnmUx5el7R3Ul4CzfR8owY",
      "include_colab_link": true
    },
    "kernelspec": {
      "name": "python3",
      "display_name": "Python 3"
    },
    "language_info": {
      "name": "python"
    }
  },
  "cells": [
    {
      "cell_type": "markdown",
      "metadata": {
        "id": "view-in-github",
        "colab_type": "text"
      },
      "source": [
        "<a href=\"https://colab.research.google.com/github/kavishkadinajara/TRAVELGENIUS/blob/master/K_Nearest.ipynb\" target=\"_parent\"><img src=\"https://colab.research.google.com/assets/colab-badge.svg\" alt=\"Open In Colab\"/></a>"
      ]
    },
    {
      "cell_type": "code",
      "source": [],
      "metadata": {
        "id": "_kjUz3ZgUQAh"
      },
      "execution_count": null,
      "outputs": []
    },
    {
      "cell_type": "code",
      "execution_count": 26,
      "metadata": {
        "colab": {
          "base_uri": "https://localhost:8080/"
        },
        "id": "jiGpbiswKSOs",
        "outputId": "dbeec9f9-9bba-476c-c60a-2d01ce2a3961"
      },
      "outputs": [
        {
          "output_type": "stream",
          "name": "stdout",
          "text": [
            "Nuwara Eliya City, Nuwara Eliya\n"
          ]
        }
      ],
      "source": [
        "import pandas as pd\n",
        "import numpy as np\n",
        "from sklearn.preprocessing import LabelEncoder, MinMaxScaler\n",
        "from sklearn.model_selection import train_test_split\n",
        "from sklearn.tree import DecisionTreeClassifier\n",
        "import joblib\n",
        "\n",
        "# Load the dataset\n",
        "data = pd.read_csv('https://raw.githubusercontent.com/kavishkadinajara/TRAVELGENIUS/master/ML_model/travel_data.csv')\n",
        "\n",
        "# Dictionary to hold label encoders for each specified column\n",
        "label_encoders = {}\n",
        "\n",
        "# List of columns to be label encoded\n",
        "columns_to_encode = ['Area_of_Interest', 'Preferred_Climate', 'Transportation_Mode', 'Recommendation']\n",
        "\n",
        "# Apply LabelEncoder to each specified column\n",
        "for column in columns_to_encode:\n",
        "    le = LabelEncoder()\n",
        "    data[column] = le.fit_transform(data[column])\n",
        "    label_encoders[column] = le\n",
        "\n",
        "\n",
        "# Split the data into training and test sets\n",
        "x = data.drop(columns=['Recommendation'])\n",
        "y = data['Recommendation']\n",
        "x_train, x_test, y_train, y_test = train_test_split(x, y, test_size=0.2, random_state=42)\n",
        "\n",
        "# Scale the data\n",
        "scaler = MinMaxScaler()\n",
        "x_train = scaler.fit_transform(x_train)\n",
        "x_test = scaler.transform(x_test)\n",
        "\n",
        "# Train a Decision Tree model\n",
        "model_dt = DecisionTreeClassifier()\n",
        "model_dt.fit(x_train, y_train)\n",
        "\n",
        "# Save the model\n",
        "joblib.dump(model_dt, 'travel_decision_tree_model.pkl')\n",
        "\n",
        "# Load the model\n",
        "loaded_model = joblib.load('travel_decision_tree_model.pkl')\n",
        "\n",
        "# Define the function for making predictions\n",
        "def predict_recommendation(input_data):\n",
        "    # Convert input_data into a DataFrame\n",
        "    input_df = pd.DataFrame([input_data])\n",
        "\n",
        "    # Encode categorical columns\n",
        "    for column in ['Area_of_Interest', 'Preferred_Climate', 'Transportation_Mode']:\n",
        "        if input_df[column].iloc[0] in label_encoders[column].classes_:\n",
        "            input_df[column] = label_encoders[column].transform([input_df[column].iloc[0]])\n",
        "        else:\n",
        "            # Handle unseen labels by assigning a default or most common label\n",
        "            # Here, assuming the first class is a sensible default\n",
        "            input_df[column] = label_encoders[column].transform([label_encoders[column].classes_[0]])\n",
        "\n",
        "    # Scale the input data\n",
        "    input_scaled = scaler.transform(input_df)\n",
        "\n",
        "    # Make prediction\n",
        "    recommendation_encoded = loaded_model.predict(input_scaled)\n",
        "    recommendation = label_encoders['Recommendation'].inverse_transform(recommendation_encoded)\n",
        "    return recommendation[0]\n",
        "\n",
        "# Test the function\n",
        "test_input = {\n",
        "    \"Number_of_Travelers\": 5,\n",
        "    \"Budget\": 15000,\n",
        "    \"Area_of_Interest\": \"Mountain \",  # This might not be in the training set\n",
        "    \"Preferred_Climate\": \"Cool\",  # This might not be in the training set\n",
        "    \"Transportation_Mode\": \"Public\"  # This might not be in the training set\n",
        "}\n",
        "\n",
        "print(predict_recommendation(test_input))\n"
      ]
    },
    {
      "cell_type": "code",
      "source": [],
      "metadata": {
        "id": "dZUgQe_MUOsZ"
      },
      "execution_count": null,
      "outputs": []
    }
  ]
}